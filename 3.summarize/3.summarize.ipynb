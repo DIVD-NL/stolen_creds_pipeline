{
 "cells": [
  {
   "cell_type": "markdown",
   "id": "5c903e97-5f05-4bfd-9d55-ad1a83c38431",
   "metadata": {},
   "source": [
    "# Summarize notebook\n",
    "This notebook summerizes a beach specific database into apex lists.\n",
    "\n",
    "Set the constants below first."
   ]
  },
  {
   "cell_type": "code",
   "execution_count": null,
   "id": "91e24497-ad01-447b-a446-e83833963a1f",
   "metadata": {},
   "outputs": [],
   "source": [
    "#Set constants\n",
    "CASE=\"DIVD-2020-00013\"\n",
    "SUB=\"set1\"\n",
    "IN_DIR=\"../LEAK_DB/\"\n",
    "OUT_DIR=\"../OUT/\"\n",
    "IN_DB=f\"{IN_DIR}/{CASE}-{SUB}.sqlite3\""
   ]
  },
  {
   "cell_type": "markdown",
   "id": "044fdf0c-bc42-49c6-8b32-c6022675e4be",
   "metadata": {},
   "source": [
    "# Import helper functions"
   ]
  },
  {
   "cell_type": "code",
   "execution_count": null,
   "id": "8a221009-3900-4223-8caf-eb5c5bb42b49",
   "metadata": {},
   "outputs": [],
   "source": [
    "%run ../0.shared_notebooks/0_helper_functions.ipynb"
   ]
  },
  {
   "cell_type": "code",
   "execution_count": null,
   "id": "e2269a11-68ab-4cbb-a948-35405f1434ca",
   "metadata": {},
   "outputs": [],
   "source": [
    "!echo $IN_DIR && ls -lah $IN_DIR\n",
    "!echo $OUT_DIR && ls -lah $OUT_DIR "
   ]
  },
  {
   "cell_type": "markdown",
   "id": "db45c517-0b32-436e-b627-4f1208ca47db",
   "metadata": {},
   "source": [
    "## Open DB\n"
   ]
  },
  {
   "cell_type": "code",
   "execution_count": null,
   "id": "ae282201-8853-43d6-a94c-77335b1b1645",
   "metadata": {},
   "outputs": [],
   "source": [
    "conn = sqlite3.connect(IN_DB)"
   ]
  },
  {
   "cell_type": "code",
   "execution_count": null,
   "id": "97034387-c116-4133-9d84-6c8133ef3678",
   "metadata": {},
   "outputs": [],
   "source": [
    "conn"
   ]
  },
  {
   "cell_type": "markdown",
   "id": "0f968f28-6b69-4f68-b789-2866f4e4c604",
   "metadata": {},
   "source": [
    "## Email domains"
   ]
  },
  {
   "cell_type": "code",
   "execution_count": null,
   "id": "1528245d-58c7-4c46-b724-017434a52cd9",
   "metadata": {},
   "outputs": [],
   "source": [
    "records = []\n",
    "for row in conn.execute(\"\"\"\n",
    "    SELECT email_apex, count(username)\n",
    "    FROM entity\n",
    "    GROUP BY email_apex\n",
    "    ORDER BY email_apex\n",
    "\"\"\").fetchall() :\n",
    "    records.append(row)\n",
    "email_df = pd.DataFrame(records, columns = [ \"email_apex\", \"unique_users\" ])"
   ]
  },
  {
   "cell_type": "code",
   "execution_count": null,
   "id": "71baf7a8-c220-4f62-ba7a-c241525dc552",
   "metadata": {},
   "outputs": [],
   "source": [
    "email_df"
   ]
  },
  {
   "cell_type": "code",
   "execution_count": null,
   "id": "362ae58a-69df-4162-b1fc-75a3d978befa",
   "metadata": {},
   "outputs": [],
   "source": [
    "email_df.to_csv(f\"{OUT_DIR}/{CASE}-{SUB}-email_apexs.csv\", index=False)"
   ]
  },
  {
   "cell_type": "markdown",
   "id": "20314b68-97ff-4298-95c8-f0d9cc543734",
   "metadata": {},
   "source": [
    "## URL domains"
   ]
  },
  {
   "cell_type": "code",
   "execution_count": null,
   "id": "2f6634cc-f09a-412b-94b5-da02b4d48640",
   "metadata": {},
   "outputs": [],
   "source": [
    "records = []\n",
    "for row in conn.execute(\"\"\"\n",
    "    SELECT url_apex, count(username)\n",
    "    FROM entity\n",
    "    GROUP BY url_apex\n",
    "    ORDER BY url_apex\n",
    "\"\"\").fetchall() :\n",
    "    records.append(row)\n",
    "url_df = pd.DataFrame(records, columns = [ \"url_apex\", \"unique_users\" ])"
   ]
  },
  {
   "cell_type": "code",
   "execution_count": null,
   "id": "3e4e3ea8-a1f1-4bd5-82cf-5fd0901d4160",
   "metadata": {},
   "outputs": [],
   "source": [
    "url_df"
   ]
  },
  {
   "cell_type": "code",
   "execution_count": null,
   "id": "c4cb1295-6d96-492a-a949-6d42eff95f1e",
   "metadata": {},
   "outputs": [],
   "source": [
    "url_df.to_csv(f\"{OUT_DIR}/{CASE}-{SUB}-url_apexs.csv\", index=False)"
   ]
  },
  {
   "cell_type": "code",
   "execution_count": null,
   "id": "479312a3-24ac-4080-9377-efd6c5fa6ab2",
   "metadata": {},
   "outputs": [],
   "source": [
    "ls -lah $OUT_DIR "
   ]
  },
  {
   "cell_type": "code",
   "execution_count": null,
   "id": "e6a4f774-7068-4494-8734-3e6495059df5",
   "metadata": {},
   "outputs": [],
   "source": [
    "!(cd $OUT_DIR;tar -cvzf $CASE-$SUB-apexes.tgz $CASE-$SUB-*.csv)"
   ]
  },
  {
   "cell_type": "code",
   "execution_count": null,
   "id": "7eafcc47-fa5c-4bd4-9412-7649fdd62847",
   "metadata": {},
   "outputs": [],
   "source": [
    "ls -lah $OUT_DIR "
   ]
  },
  {
   "cell_type": "code",
   "execution_count": null,
   "id": "a7daeb3d-c00f-4c02-8b65-d4a1786135e4",
   "metadata": {},
   "outputs": [],
   "source": []
  }
 ],
 "metadata": {
  "kernelspec": {
   "display_name": "Python 3 (ipykernel)",
   "language": "python",
   "name": "python3"
  },
  "language_info": {
   "codemirror_mode": {
    "name": "ipython",
    "version": 3
   },
   "file_extension": ".py",
   "mimetype": "text/x-python",
   "name": "python",
   "nbconvert_exporter": "python",
   "pygments_lexer": "ipython3",
   "version": "3.9.18"
  }
 },
 "nbformat": 4,
 "nbformat_minor": 5
}

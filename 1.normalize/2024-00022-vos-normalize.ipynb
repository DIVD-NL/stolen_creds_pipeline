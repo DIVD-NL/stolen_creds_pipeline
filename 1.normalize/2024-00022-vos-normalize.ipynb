{
 "cells": [
  {
   "cell_type": "markdown",
   "id": "c1add555-2a7a-4ef4-9dfc-bbaff0b7c6fc",
   "metadata": {},
   "source": [
    "# Import helper functions"
   ]
  },
  {
   "cell_type": "code",
   "execution_count": null,
   "id": "fd9c51f1-71ea-451a-a61d-2fb1a937b4e3",
   "metadata": {},
   "outputs": [],
   "source": [
    "%run ../0.shared_notebooks/0_helper_functions.ipynb"
   ]
  },
  {
   "cell_type": "markdown",
   "id": "ee953f66-efe3-4b89-90ac-63a754947856",
   "metadata": {},
   "source": [
    "# Set constants"
   ]
  },
  {
   "cell_type": "code",
   "execution_count": null,
   "id": "e20198a8-ef2a-4294-80a7-64ef7587103f",
   "metadata": {},
   "outputs": [],
   "source": [
    "IN_DB=\"../IN/stealer.sqlite3\"\n",
    "OUT_DIR=\"../NORMALIZED\""
   ]
  },
  {
   "cell_type": "markdown",
   "id": "fe1ba4d4-2f97-4af8-966f-52c04cf48acf",
   "metadata": {},
   "source": [
    "# Open DB"
   ]
  },
  {
   "cell_type": "code",
   "execution_count": null,
   "id": "da9398ea-1824-4762-97a7-b02636d4048c",
   "metadata": {},
   "outputs": [],
   "source": [
    "# Open database\n",
    "conn = sqlite3.connect(IN_DB)\n",
    "in_cur = conn.cursor()\n",
    "out_cur = conn.cursor()"
   ]
  },
  {
   "cell_type": "code",
   "execution_count": null,
   "id": "6469fe3c-3598-4cf0-85ed-72e0d687ca0b",
   "metadata": {},
   "outputs": [],
   "source": [
    "conn"
   ]
  },
  {
   "cell_type": "markdown",
   "id": "430812e0-49bd-4f71-b58b-5c65c8e5260d",
   "metadata": {},
   "source": [
    "## Add NML_hash and masked password"
   ]
  },
  {
   "cell_type": "code",
   "execution_count": null,
   "id": "91f33287-5967-4f8a-a90f-beff52352197",
   "metadata": {},
   "outputs": [],
   "source": [
    "in_cur.execute('select count(*) from \"stealer\" where nml_hash is null collate nocase')\n",
    "todo = in_cur.fetchone()[0]\n",
    "if todo :\n",
    "    count = 0\n",
    "    done = -1\n",
    "    # Progress bar\n",
    "    widgets=[\n",
    "        progressbar.SimpleProgress(), \n",
    "        ' (', progressbar.Percentage(format='%(percentage)3.2f%%'), ') ',\n",
    "        progressbar.Bar(),\n",
    "        progressbar.ETA(),\n",
    "    ]\n",
    "    bar = progressbar.ProgressBar(max_value=todo, widgets=widgets)\n",
    "    bar.update(1)\n",
    "    while done != 0:\n",
    "        done = 0\n",
    "        in_cur.execute('select rowid, user, passwd from stealer where nml_hash is null limit 10000 collate nocase')\n",
    "        for r in in_cur:\n",
    "            out_cur.execute(\"\"\"\n",
    "                     UPDATE 'stealer' set nml_hash = ?, masked_passwd = ?, has_name = false, has_dob = false, has_addr = false, \n",
    "                         has_phone = false, has_cc = false, has_bankacc = false, has_ssn = false, has_ip = false where rowid = ?\n",
    "                \"\"\", (\n",
    "                    nml_hash(r[1],r[2]), mask_password(r[2]), r[0]\n",
    "                )\n",
    "            )\n",
    "            count=count+1\n",
    "            done = done + 1\n",
    "            if count % 1000 == 0 :\n",
    "                bar.update(count)\n",
    "        if count % 1_000_000 == 0 :\n",
    "            conn.commit()\n",
    "    conn.commit()\n",
    "else:\n",
    "    print(\"Nothng to do here\")"
   ]
  },
  {
   "cell_type": "code",
   "execution_count": null,
   "id": "dadfeec8-3909-4aee-9adf-07fed6a4e433",
   "metadata": {},
   "outputs": [],
   "source": [
    "# Remove database lock (if previous step failed)\n",
    "conn.commit()"
   ]
  },
  {
   "cell_type": "code",
   "execution_count": null,
   "id": "88cf9be3-03dd-44cc-9d62-0879b3429fc5",
   "metadata": {},
   "outputs": [],
   "source": []
  }
 ],
 "metadata": {
  "kernelspec": {
   "display_name": "Python 3 (ipykernel)",
   "language": "python",
   "name": "python3"
  },
  "language_info": {
   "codemirror_mode": {
    "name": "ipython",
    "version": 3
   },
   "file_extension": ".py",
   "mimetype": "text/x-python",
   "name": "python",
   "nbconvert_exporter": "python",
   "pygments_lexer": "ipython3",
   "version": "3.9.18"
  }
 },
 "nbformat": 4,
 "nbformat_minor": 5
}

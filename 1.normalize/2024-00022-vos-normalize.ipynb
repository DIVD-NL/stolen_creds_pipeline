{
 "cells": [
  {
   "cell_type": "markdown",
   "id": "c1add555-2a7a-4ef4-9dfc-bbaff0b7c6fc",
   "metadata": {},
   "source": [
    "# Import helper functions"
   ]
  },
  {
   "cell_type": "code",
   "execution_count": null,
   "id": "fd9c51f1-71ea-451a-a61d-2fb1a937b4e3",
   "metadata": {},
   "outputs": [],
   "source": [
    "%run ../0.shared_notebooks/0_helper_functions.ipynb"
   ]
  },
  {
   "cell_type": "markdown",
   "id": "ee953f66-efe3-4b89-90ac-63a754947856",
   "metadata": {},
   "source": [
    "# Set constants"
   ]
  },
  {
   "cell_type": "code",
   "execution_count": null,
   "id": "e20198a8-ef2a-4294-80a7-64ef7587103f",
   "metadata": {},
   "outputs": [],
   "source": [
    "IN_DB=\"../IN/stealer.sqlite3\"\n",
    "OUT_DIR=\"../NORMALIZED\""
   ]
  },
  {
   "cell_type": "markdown",
   "id": "fe1ba4d4-2f97-4af8-966f-52c04cf48acf",
   "metadata": {},
   "source": [
    "# Open DB"
   ]
  },
  {
   "cell_type": "code",
   "execution_count": null,
   "id": "da9398ea-1824-4762-97a7-b02636d4048c",
   "metadata": {},
   "outputs": [],
   "source": [
    "# Open database\n",
    "conn = sqlite3.connect(IN_DB)\n",
    "in_cur = conn.cursor()\n",
    "out_cur = conn.cursor()"
   ]
  },
  {
   "cell_type": "code",
   "execution_count": null,
   "id": "6469fe3c-3598-4cf0-85ed-72e0d687ca0b",
   "metadata": {},
   "outputs": [],
   "source": [
    "conn"
   ]
  },
  {
   "cell_type": "markdown",
   "id": "430812e0-49bd-4f71-b58b-5c65c8e5260d",
   "metadata": {},
   "source": [
    "## Add NML_hash and masked password"
   ]
  },
  {
   "cell_type": "code",
   "execution_count": null,
   "id": "91f33287-5967-4f8a-a90f-beff52352197",
   "metadata": {},
   "outputs": [],
   "source": [
    "in_cur.execute('select count(*) from \"stealer\" where nml_hash is null collate nocase')\n",
    "todo = in_cur.fetchone()[0]\n",
    "if todo :\n",
    "    count = 0\n",
    "    done = -1\n",
    "    # Progress bar\n",
    "    widgets=[\n",
    "        progressbar.SimpleProgress(), \n",
    "        ' (', progressbar.Percentage(format='%(percentage)3.2f%%'), ') ',\n",
    "        progressbar.Bar(),\n",
    "        progressbar.ETA(),\n",
    "    ]\n",
    "    bar = progressbar.ProgressBar(max_value=todo, widgets=widgets,enable_colors=False)\n",
    "    bar.update(1)\n",
    "    while done != 0:\n",
    "        done = 0\n",
    "        in_cur.execute('select rowid, user, passwd from stealer where nml_hash is null limit 10000 collate nocase')\n",
    "        for r in in_cur:\n",
    "            out_cur.execute(\"\"\"\n",
    "                     UPDATE 'stealer' set nml_hash = ?, masked_passwd = ?, has_name = false, has_dob = false, has_addr = false, \n",
    "                         has_phone = false, has_cc = false, has_bankacc = false, has_ssn = false, has_ip = false where rowid = ?\n",
    "                \"\"\", (\n",
    "                    nml_hash(r[1],r[2]), mask_password(r[2]), r[0]\n",
    "                )\n",
    "            )\n",
    "            count=count+1\n",
    "            done = done + 1\n",
    "            if count % 1000 == 0 :\n",
    "                bar.update(count)\n",
    "        if count % 1_000_000 == 0 :\n",
    "            conn.commit()\n",
    "    conn.commit()\n",
    "else:\n",
    "    print(\"Nothng to do here\")"
   ]
  },
  {
   "cell_type": "code",
   "execution_count": null,
   "id": "dadfeec8-3909-4aee-9adf-07fed6a4e433",
   "metadata": {},
   "outputs": [],
   "source": [
    "# Remove database lock (if previous step failed)\n",
    "conn.commit()"
   ]
  },
  {
   "cell_type": "markdown",
   "id": "0c524a65-59aa-41cd-805c-6adeca599fc1",
   "metadata": {},
   "source": [
    "# Remove NML hash where user <> email"
   ]
  },
  {
   "cell_type": "code",
   "execution_count": null,
   "id": "844780c4-3663-41a2-acfc-845de462c755",
   "metadata": {},
   "outputs": [],
   "source": [
    "%run ../0.shared_notebooks/0_helper_functions.ipynb"
   ]
  },
  {
   "cell_type": "code",
   "execution_count": null,
   "id": "1c5014fa-0ec3-4f2e-ba3b-e33d6a5d723e",
   "metadata": {},
   "outputs": [],
   "source": [
    "conn=sqlite3.connect(\"../LEAK_DB/DIVD-2024-00022-set1.sqlite3\")\n",
    "in_cur=conn.cursor()\n",
    "out_cur=conn.cursor()"
   ]
  },
  {
   "cell_type": "code",
   "execution_count": null,
   "id": "5971d8b0-deec-4d85-96e0-9a43b09db8f8",
   "metadata": {},
   "outputs": [],
   "source": [
    "# Get non-email addresses\n",
    "done = 0\n",
    "total = 0\n",
    "this_run = -1\n",
    "last_rowid = 1_267_816_826\n",
    "while this_run != 0 :\n",
    "    if last_rowid:\n",
    "        in_cur.execute(\"SELECT rowid, user FROM entity WHERE nml_hash IS NOT NULL and rowid > ? ORDER BY rowid LIMIT 10000;\", (last_rowid, ) )\n",
    "    else:\n",
    "        in_cur.execute(\"SELECT rowid, user FROM entity WHERE nml_hash IS NOT NULL ORDER BY rowid LIMIT 50000;\")\n",
    "    not_email = []\n",
    "    this_run=0\n",
    "    for r in in_cur :\n",
    "        this_run=this_run+1\n",
    "        if is_email(r[1]):\n",
    "            pass\n",
    "        else:\n",
    "            not_email.append(r[0])\n",
    "        total=total+1\n",
    "        last_rowid = r[0]\n",
    "    for e in not_email :\n",
    "        out_cur.execute(\"UPDATE entity SET nml_hash = NULL, user_apex = NULL WHERE rowid = ?\", ( e, ) )\n",
    "        done=done+1\n",
    "    print(f\"{total:,} / {done:,}  ({last_rowid})\", end=\"\\r\")\n",
    "    conn.commit"
   ]
  },
  {
   "cell_type": "code",
   "execution_count": null,
   "id": "c465042f-8a88-4976-a735-05d2438e59b0",
   "metadata": {},
   "outputs": [],
   "source": [
    "last_rowid-10_000"
   ]
  },
  {
   "cell_type": "code",
   "execution_count": null,
   "id": "20f7c5cf-19fa-4fde-868a-ad087c39c7eb",
   "metadata": {},
   "outputs": [],
   "source": [
    "conn.commit()"
   ]
  },
  {
   "cell_type": "code",
   "execution_count": null,
   "id": "8e4cfd20-61b9-4d10-b792-3c58a3b547c8",
   "metadata": {},
   "outputs": [],
   "source": []
  }
 ],
 "metadata": {
  "kernelspec": {
   "display_name": "Python 3 (ipykernel)",
   "language": "python",
   "name": "python3"
  },
  "language_info": {
   "codemirror_mode": {
    "name": "ipython",
    "version": 3
   },
   "file_extension": ".py",
   "mimetype": "text/x-python",
   "name": "python",
   "nbconvert_exporter": "python",
   "pygments_lexer": "ipython3",
   "version": "3.9.18"
  }
 },
 "nbformat": 4,
 "nbformat_minor": 5
}

{
 "cells": [
  {
   "cell_type": "markdown",
   "id": "c1add555-2a7a-4ef4-9dfc-bbaff0b7c6fc",
   "metadata": {},
   "source": [
    "# Import helper functions"
   ]
  },
  {
   "cell_type": "code",
   "execution_count": null,
   "id": "fd9c51f1-71ea-451a-a61d-2fb1a937b4e3",
   "metadata": {},
   "outputs": [],
   "source": [
    "%run ../0.shared_notebooks/0_helper_functions.ipynb"
   ]
  },
  {
   "cell_type": "code",
   "execution_count": null,
   "id": "1f5d177b-7fc9-46a9-a3be-69fc097b48cc",
   "metadata": {},
   "outputs": [],
   "source": [
    "# Load extra libraries\n",
    "import dateutil \n",
    "import json"
   ]
  },
  {
   "cell_type": "markdown",
   "id": "ee953f66-efe3-4b89-90ac-63a754947856",
   "metadata": {},
   "source": [
    "# Set constants"
   ]
  },
  {
   "cell_type": "code",
   "execution_count": null,
   "id": "e20198a8-ef2a-4294-80a7-64ef7587103f",
   "metadata": {},
   "outputs": [],
   "source": [
    "CASE=\"DIVD-2021-00004\"\n",
    "SUB=\"logs.txt\"\n",
    "IN_DIR=\"../IN\"\n",
    "OUT_DIR=\"../NORMALIZED\"\n",
    "ERR_DIR=\"../ERR\""
   ]
  },
  {
   "cell_type": "code",
   "execution_count": null,
   "id": "4905d716-62c5-4f83-ba4c-7ee9a4fded6f",
   "metadata": {},
   "outputs": [],
   "source": [
    "!ls $IN_DIR\n",
    "!ls $ERR_DIR"
   ]
  },
  {
   "cell_type": "markdown",
   "id": "1019c2ec-7d91-4df6-9270-c3f8105b52b7",
   "metadata": {},
   "source": [
    "## Defaults\n"
   ]
  },
  {
   "cell_type": "code",
   "execution_count": null,
   "id": "640c137d-ebdc-436d-84b0-fc6845350161",
   "metadata": {},
   "outputs": [],
   "source": [
    "defaults = [\n",
    "  None,  # ts_found (Timestamp when the data was \"found\")\n",
    "  None,  # ts_leaked (Timestamp when the data was stolen/leaked)\n",
    "  0,     # has_name (0/1 if the record has a name)\n",
    "  0,     # has_dob (0/1 if the record has a date of birth)\n",
    "  0,     # has_addr (0/1 if the record has a address)\n",
    "  0,     # has_phone (0/1 if the record has a )\n",
    "  0,     # has_cc (0/1 if the record has creditcard data)\n",
    "  0,     # has bankacc (0/1 if the record has a bank account)\n",
    "  0,     # has_ssn (0/1 if the record has a ssn)\n",
    "  0,     # has ip (0/1 if the record has an ip address)\n",
    "  0,     # extra_data (json object with extra data)\n",
    "]\n",
    "ts_from_file = False"
   ]
  },
  {
   "cell_type": "markdown",
   "id": "fe1ba4d4-2f97-4af8-966f-52c04cf48acf",
   "metadata": {},
   "source": [
    "## Read in files, guess column and type"
   ]
  },
  {
   "cell_type": "code",
   "execution_count": null,
   "id": "da9398ea-1824-4762-97a7-b02636d4048c",
   "metadata": {},
   "outputs": [],
   "source": [
    "files=sorted(glob(f\"{IN_DIR}/*.txt\"))"
   ]
  },
  {
   "cell_type": "code",
   "execution_count": null,
   "id": "5b398e07-9291-41af-a499-6adc1c9eeea4",
   "metadata": {},
   "outputs": [],
   "source": [
    "files"
   ]
  },
  {
   "cell_type": "markdown",
   "id": "ae5a9d33-2e10-4f04-a0ef-878f63ad621e",
   "metadata": {},
   "source": [
    "## Record format for normalized files\n",
    "* username\n",
    "* passwd\n",
    "* url (Url that the credentials belong to)\n",
    "* ts_found (Timestamp when the data was \"found\")\n",
    "* ts_leaked (Timestamp when the data was stolen/leaked)\n",
    "* has_name (0/1 if the record has a name)\n",
    "* has_dob (0/1 if the record has a date of birth)\n",
    "* has_addr (0/1 if the record has a address)\n",
    "* has_phone (0/1 if the record has a )\n",
    "* has_cc (0/1 if the record has creditcard data)\n",
    "* has bankacc (0/1 if the record has a bank account)\n",
    "* has_ssn (0/1 if the record has a ssn)\n",
    "* has ip (0/1 if the record has an ip address)\n",
    "* extra_data (json object with extra data)"
   ]
  },
  {
   "cell_type": "code",
   "execution_count": null,
   "id": "6a4412c8-f0c6-4adc-a689-6e7c1272e765",
   "metadata": {},
   "outputs": [],
   "source": [
    "import datetime\n",
    "\n",
    "for file in files:\n",
    "    filename=os.path.basename(file)\n",
    "    timestamp=os.path.getctime(file)\n",
    "    record = {}\n",
    "    records = []\n",
    "    with open(file, 'rb') as fh:\n",
    "        for line in fh:\n",
    "            line=line.decode('utf-8')\n",
    "            if re.search(r'^\\s+$', line) :\n",
    "                pass # Ignore empty lines\n",
    "            elif re.search(r'^\\+[ \\-]+\\+$', line) : # End of records\n",
    "                record['extra_data'] = json.dumps(record['extra_data'])\n",
    "                records.append(record)\n",
    "            elif re.search(r'^\\+[ \\-]+([\\w\\s\\-]+?)\\-\\-+\\+$', line) : # Start of record\n",
    "                record = {\n",
    "                    'username'    : \"\",\n",
    "                    'password'    : \"\",\n",
    "                    \"ts_found\"    : \"2021-04-09 00:00:00\",\n",
    "                    \"ts_leaked\"   : \"\",\n",
    "                    \"has_name\"    : defaults[2],\n",
    "                    \"has_dob\"     : defaults[3],\n",
    "                    \"has_addr\"    : defaults[4],\n",
    "                    \"has_phone\"   : defaults[5],\n",
    "                    \"has_cc\"      : defaults[6],\n",
    "                    \"has_bankacc\" : defaults[7],\n",
    "                    \"has_ssn\"     : defaults[8],\n",
    "                    \"has_ip\"      : defaults[9],\n",
    "                    \"extra_data\"  : {},\n",
    "                }\n",
    "                match = re.search(r'^\\+[ \\-]+([\\w\\s\\-]+?)\\-\\-+\\+$', line)\n",
    "                record['extra_data']['campaign'] = match.group(1)\n",
    "            elif re.search(r'^\\|Information', line) : # Info line\n",
    "                match = re.search(r'^\\|Information: (.*)', line)\n",
    "                record['extra_data']['information'] = match.group(1)\n",
    "            elif re.search(r'^\\|Email', line) : # Email line\n",
    "                match = re.search(r'Email \\: (.*?) ', line)\n",
    "                record['username'] = match.group(1)\n",
    "                match = re.search(r'Password \\: (.*?)(\\.\\||\\s)', line)\n",
    "                record['password'] = match.group(1)\n",
    "                match = re.search(r'Page \\: (.*)', line)\n",
    "                if match :\n",
    "                    print(match.group(1))\n",
    "                    record['extra_data']['phishing_site'] = match.group(1)\n",
    "                    print(record)\n",
    "                    bla_site()\n",
    "            elif re.search(r'^\\|IP Address', line) : # Email line\n",
    "                match = re.search(r'IP Address.*?([\\d\\.]+)', line)\n",
    "                record['extra_data']['ip'] = match.group(1)\n",
    "                record['has_ip'] = 1\n",
    "            elif re.search(r'^\\|(Country|Region)', line) : \n",
    "                pass # Not interested\n",
    "            elif re.search(r'^\\|Date', line) : \n",
    "                match = re.search(r'Date\\: (.*?[ap]m)', line)\n",
    "                date = dateutil.parser.parse(match.group(1))\n",
    "                record[\"ts_leaked\"] = date.strftime(\"%Y-%m-%d %H:%M:%S\")\n",
    "                match = re.search(r'Browser\\: (.*)', line)\n",
    "                if match:\n",
    "                    record['extra_data']['user-agent'] = match.group(1)\n",
    "            else:\n",
    "                print(line)\n",
    "                bla()\n",
    "                pass\n",
    "df = pd.DataFrame(records)    \n",
    "#df.to_csv(f\"{COMBO_DIR}/{filename.replace(\".txt\",\".tsv\")}\",sep=\"\\t\", index=False, columns=[\"user\",\"pass\",\"telegram_date\",\"file\"])"
   ]
  },
  {
   "cell_type": "code",
   "execution_count": null,
   "id": "d653c270-9a2a-4f1e-a614-4d0a9f180a74",
   "metadata": {},
   "outputs": [],
   "source": [
    "df.head()"
   ]
  },
  {
   "cell_type": "code",
   "execution_count": null,
   "id": "b4172d79-2c73-4813-9876-30398354e405",
   "metadata": {},
   "outputs": [],
   "source": [
    "df.to_csv(f\"{OUT_DIR}/{CASE}-{SUB}.tsv\", sep=\"\\t\", index=False)"
   ]
  },
  {
   "cell_type": "code",
   "execution_count": null,
   "id": "397881d7-72cb-481e-9bb4-e68d11ff37e9",
   "metadata": {},
   "outputs": [],
   "source": []
  }
 ],
 "metadata": {
  "kernelspec": {
   "display_name": "Python 3 (ipykernel)",
   "language": "python",
   "name": "python3"
  },
  "language_info": {
   "codemirror_mode": {
    "name": "ipython",
    "version": 3
   },
   "file_extension": ".py",
   "mimetype": "text/x-python",
   "name": "python",
   "nbconvert_exporter": "python",
   "pygments_lexer": "ipython3",
   "version": "3.9.18"
  }
 },
 "nbformat": 4,
 "nbformat_minor": 5
}

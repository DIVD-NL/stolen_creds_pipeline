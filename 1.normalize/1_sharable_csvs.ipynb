{
 "cells": [
  {
   "cell_type": "code",
   "execution_count": null,
   "id": "8a221009-3900-4223-8caf-eb5c5bb42b49",
   "metadata": {},
   "outputs": [],
   "source": [
    "%run 0_helper_functions.ipynb"
   ]
  },
  {
   "cell_type": "code",
   "execution_count": null,
   "id": "19cf8758-ef81-45d9-838c-3291160916ee",
   "metadata": {},
   "outputs": [],
   "source": [
    "IN_DIR=\"../IN\"\n",
    "IN_DB=f\"{IN_DIR}/stealer.sqlite3\"\n",
    "OUT_DIR=\"../OUT\""
   ]
  },
  {
   "cell_type": "code",
   "execution_count": null,
   "id": "e2269a11-68ab-4cbb-a948-35405f1434ca",
   "metadata": {},
   "outputs": [],
   "source": [
    "!echo $IN_DIR && ls -lah $IN_DIR\n",
    "!echo $OUT_DIR && ls -lah $OUT_DIR "
   ]
  },
  {
   "cell_type": "markdown",
   "id": "db45c517-0b32-436e-b627-4f1208ca47db",
   "metadata": {},
   "source": [
    "## Open DB\n"
   ]
  },
  {
   "cell_type": "code",
   "execution_count": null,
   "id": "ae282201-8853-43d6-a94c-77335b1b1645",
   "metadata": {},
   "outputs": [],
   "source": [
    "conn = sqlite3.connect(IN_DB)"
   ]
  },
  {
   "cell_type": "code",
   "execution_count": null,
   "id": "97034387-c116-4133-9d84-6c8133ef3678",
   "metadata": {},
   "outputs": [],
   "source": [
    "conn"
   ]
  },
  {
   "cell_type": "markdown",
   "id": "fa788a96-b6b1-4e0e-96d3-45278af592c3",
   "metadata": {},
   "source": [
    "## Read in request files"
   ]
  },
  {
   "cell_type": "code",
   "execution_count": null,
   "id": "352f6a0d-19ad-4fc7-97e3-a631aea605f5",
   "metadata": {},
   "outputs": [],
   "source": [
    "mail_domains = []\n",
    "url_domains = []\n",
    "with open(f\"{IN_DIR}/mail_domains.txt\", \"r\") as file:\n",
    "    mail_domains = [line.strip() for line in file]\n",
    "with open(f\"{IN_DIR}/url_domains.txt\", \"r\") as file:\n",
    "    url_domains = [line.strip() for line in file]"
   ]
  },
  {
   "cell_type": "code",
   "execution_count": null,
   "id": "452308d1-605b-42d1-89cd-e8f528a43645",
   "metadata": {},
   "outputs": [],
   "source": [
    "mail_domains"
   ]
  },
  {
   "cell_type": "code",
   "execution_count": null,
   "id": "f3cbf329-a625-4c78-955c-bb77dd6b55fb",
   "metadata": {},
   "outputs": [],
   "source": [
    "url_domains"
   ]
  },
  {
   "cell_type": "markdown",
   "id": "0f968f28-6b69-4f68-b789-2866f4e4c604",
   "metadata": {},
   "source": [
    "## Email domains"
   ]
  },
  {
   "cell_type": "code",
   "execution_count": null,
   "id": "1528245d-58c7-4c46-b724-017434a52cd9",
   "metadata": {},
   "outputs": [],
   "source": [
    "records = []\n",
    "count = 1\n",
    "for apex in mail_domains:\n",
    "    print(\"{} / {}   {}                                                                                                            \".format(\n",
    "        count,len(mail_domains), apex), end=\"\\r\")\n",
    "    count = count + 1\n",
    "    for row in conn.execute(\"\"\"\n",
    "        SELECT s.user, s.passwd, s.url, s.user_apex, s.file, f.timestamp\n",
    "        FROM stealer s\n",
    "        LEFT JOIN files f ON s.file = f.name\n",
    "        WHERE s.user_apex = ? COLLATE NOCASE;\n",
    "    \"\"\", (apex, ) ).fetchall() :\n",
    "        records.append(row)\n",
    "email_df = pd.DataFrame(records, columns = [ \"username\", \"masked_passwd\", \"url\", \"user_apex\", \"file_ref\", \"scraped_date\" ])"
   ]
  },
  {
   "cell_type": "code",
   "execution_count": null,
   "id": "ef2b683a-2f9f-47ab-9f1b-d6a040401d12",
   "metadata": {},
   "outputs": [],
   "source": [
    "records"
   ]
  },
  {
   "cell_type": "code",
   "execution_count": null,
   "id": "71baf7a8-c220-4f62-ba7a-c241525dc552",
   "metadata": {},
   "outputs": [],
   "source": [
    "email_df"
   ]
  },
  {
   "cell_type": "code",
   "execution_count": null,
   "id": "362ae58a-69df-4162-b1fc-75a3d978befa",
   "metadata": {},
   "outputs": [],
   "source": [
    "email_df.to_csv(f\"{OUT_DIR}/email_records.csv\", index=False)"
   ]
  },
  {
   "cell_type": "markdown",
   "id": "20314b68-97ff-4298-95c8-f0d9cc543734",
   "metadata": {},
   "source": [
    "## URL domains"
   ]
  },
  {
   "cell_type": "code",
   "execution_count": null,
   "id": "2f6634cc-f09a-412b-94b5-da02b4d48640",
   "metadata": {},
   "outputs": [],
   "source": [
    "records = []\n",
    "count = 1\n",
    "for apex in url_domains:\n",
    "    print(\"{} / {}   {}                                                                                                            \".format(\n",
    "        count,len(url_domains), apex), end=\"\\r\")\n",
    "    count = count + 1\n",
    "    for row in conn.execute(\"\"\"\n",
    "        SELECT s.user, s.passwd, s.url, s.url_apex, s.file, f.timestamp\n",
    "        FROM stealer s\n",
    "        LEFT JOIN files f ON s.file = f.name\n",
    "        WHERE s.url_apex = ? COLLATE NOCASE;\n",
    "    \"\"\", (apex, ) ).fetchall() :\n",
    "        records.append(row)\n",
    "url_df = pd.DataFrame(records, columns = [ \"username\", \"masked_passwd\", \"url\", \"url_apex\", \"file_ref\", \"scraped_date\" ])"
   ]
  },
  {
   "cell_type": "code",
   "execution_count": null,
   "id": "3e4e3ea8-a1f1-4bd5-82cf-5fd0901d4160",
   "metadata": {},
   "outputs": [],
   "source": [
    "url_df"
   ]
  },
  {
   "cell_type": "code",
   "execution_count": null,
   "id": "c4cb1295-6d96-492a-a949-6d42eff95f1e",
   "metadata": {},
   "outputs": [],
   "source": [
    "url_df.to_csv(f\"{OUT_DIR}/url_records.csv\", index=False)"
   ]
  },
  {
   "cell_type": "code",
   "execution_count": null,
   "id": "479312a3-24ac-4080-9377-efd6c5fa6ab2",
   "metadata": {},
   "outputs": [],
   "source": [
    "ls -lah $OUT_DIR "
   ]
  },
  {
   "cell_type": "code",
   "execution_count": null,
   "id": "e6a4f774-7068-4494-8734-3e6495059df5",
   "metadata": {},
   "outputs": [],
   "source": []
  }
 ],
 "metadata": {
  "kernelspec": {
   "display_name": "Python 3 (ipykernel)",
   "language": "python",
   "name": "python3"
  },
  "language_info": {
   "codemirror_mode": {
    "name": "ipython",
    "version": 3
   },
   "file_extension": ".py",
   "mimetype": "text/x-python",
   "name": "python",
   "nbconvert_exporter": "python",
   "pygments_lexer": "ipython3",
   "version": "3.12.3"
  }
 },
 "nbformat": 4,
 "nbformat_minor": 5
}

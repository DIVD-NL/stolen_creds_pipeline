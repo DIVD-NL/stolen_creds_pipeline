{
 "cells": [
  {
   "cell_type": "markdown",
   "id": "c1add555-2a7a-4ef4-9dfc-bbaff0b7c6fc",
   "metadata": {},
   "source": [
    "# Import helper functions"
   ]
  },
  {
   "cell_type": "code",
   "execution_count": null,
   "id": "fd9c51f1-71ea-451a-a61d-2fb1a937b4e3",
   "metadata": {},
   "outputs": [],
   "source": [
    "%run ../0.shared_notebooks/0_helper_functions.ipynb"
   ]
  },
  {
   "cell_type": "markdown",
   "id": "ee953f66-efe3-4b89-90ac-63a754947856",
   "metadata": {},
   "source": [
    "# Set constants"
   ]
  },
  {
   "cell_type": "code",
   "execution_count": null,
   "id": "e20198a8-ef2a-4294-80a7-64ef7587103f",
   "metadata": {},
   "outputs": [],
   "source": [
    "CASE=\"DIVD-2020-00013\"\n",
    "SUB=\"set1\"\n",
    "IN_DIR=\"../IN\"\n",
    "OUT_DIR=\"../NORMALIZED\"\n",
    "ERR_DIR=\"../ERR\""
   ]
  },
  {
   "cell_type": "code",
   "execution_count": null,
   "id": "4905d716-62c5-4f83-ba4c-7ee9a4fded6f",
   "metadata": {},
   "outputs": [],
   "source": [
    "!ls $IN_DIR\n",
    "!ls $ERR_DIR"
   ]
  },
  {
   "cell_type": "markdown",
   "id": "1019c2ec-7d91-4df6-9270-c3f8105b52b7",
   "metadata": {},
   "source": [
    "## Defaults\n"
   ]
  },
  {
   "cell_type": "code",
   "execution_count": null,
   "id": "640c137d-ebdc-436d-84b0-fc6845350161",
   "metadata": {},
   "outputs": [],
   "source": [
    "defaults = [\n",
    "  \"\",    # ts_found (Timestamp when the data was \"found\")\n",
    "  \"\",    # ts_leaked (Timestamp when the data was stolen/leaked)\n",
    "  0,     # has_name (0/1 if the record has a name)\n",
    "  0,     # has_dob (0/1 if the record has a date of birth)\n",
    "  0,     # has_addr (0/1 if the record has a address)\n",
    "  0,     # has_phone (0/1 if the record has a )\n",
    "  0,     # has_cc (0/1 if the record has creditcard data)\n",
    "  0,     # has bankacc (0/1 if the record has a bank account)\n",
    "  0,     # has_ssn (0/1 if the record has a ssn)\n",
    "  1,     # has ip (0/1 if the record has an ip address)\n",
    "  0,     # extra_data (json object with extra data)\n",
    "]\n",
    "ts_from_file = False\n",
    "SEPARATOR=\",\""
   ]
  },
  {
   "cell_type": "markdown",
   "id": "fe1ba4d4-2f97-4af8-966f-52c04cf48acf",
   "metadata": {},
   "source": [
    "## Read in files, guess column and type"
   ]
  },
  {
   "cell_type": "code",
   "execution_count": null,
   "id": "da9398ea-1824-4762-97a7-b02636d4048c",
   "metadata": {},
   "outputs": [],
   "source": [
    "files=sorted(glob(f\"{IN_DIR}/*.csv\"))"
   ]
  },
  {
   "cell_type": "code",
   "execution_count": null,
   "id": "5b398e07-9291-41af-a499-6adc1c9eeea4",
   "metadata": {},
   "outputs": [],
   "source": [
    "files"
   ]
  },
  {
   "cell_type": "markdown",
   "id": "02ab3eb3-d84c-4342-83c5-83bb5c05e775",
   "metadata": {},
   "source": [
    "## Record format for normalized files\n",
    "* username\n",
    "* passwd\n",
    "* url (Url that the credentials belong to)\n",
    "* ts_found (Timestamp when the data was \"found\")\n",
    "* ts_leaked (Timestamp when the data was stolen/leaked)\n",
    "* has_name (0/1 if the record has a name)\n",
    "* has_dob (0/1 if the record has a date of birth)\n",
    "* has_addr (0/1 if the record has a address)\n",
    "* has_phone (0/1 if the record has a )\n",
    "* has_cc (0/1 if the record has creditcard data)\n",
    "* has bankacc (0/1 if the record has a bank account)\n",
    "* has_ssn (0/1 if the record has a ssn)\n",
    "* has ip (0/1 if the record has an ip address)\n",
    "* extra_data (json object with extra data)"
   ]
  },
  {
   "cell_type": "code",
   "execution_count": null,
   "id": "6a4412c8-f0c6-4adc-a689-6e7c1272e765",
   "metadata": {},
   "outputs": [],
   "source": [
    "new_data = []\n",
    "for file in files:\n",
    "    df = pd.read_csv(file, header=None, sep=SEPARATOR )\n",
    "    for index, row in df.iterrows():\n",
    "        # Cols: user, password, ip, location, question, trail?\n",
    "        filename = os.path.basename(file)\n",
    "        trail = str(row[5])\n",
    "        if trail == \"nan\" : trail = \"\"\n",
    "        out_rec = {\n",
    "            \"username\"    : row[0],\n",
    "            \"passwd\"      : row[1],\n",
    "            \"url\"         : \"https://zoom.us\",\n",
    "            \"ts_found\"    : \"20200601\",\n",
    "            \"ts_leaked\"   : defaults[1],\n",
    "            \"has_name\"    : defaults[2],\n",
    "            \"has_dob\"     : defaults[3],\n",
    "            \"has_addr\"    : defaults[4],\n",
    "            \"has_phone\"   : defaults[5],\n",
    "            \"has_cc\"      : defaults[6],\n",
    "            \"has_bankacc\" : defaults[7],\n",
    "            \"has_ssn\"     : defaults[8],\n",
    "            \"has_ip\"      : 1,\n",
    "            \"extra_data\"  : f'{{ trail : \"{trail}\", file: \"{filename}\" }}'\n",
    "        }\n",
    "        new_data.append(out_rec)\n",
    "out_df = pd.DataFrame(new_data)"
   ]
  },
  {
   "cell_type": "code",
   "execution_count": null,
   "id": "5843fbcc-efec-4114-9b47-6fcac0cda7cd",
   "metadata": {},
   "outputs": [],
   "source": [
    "out_df.head()"
   ]
  },
  {
   "cell_type": "code",
   "execution_count": null,
   "id": "7266e876-5865-4185-a724-39e085783623",
   "metadata": {},
   "outputs": [],
   "source": [
    "out_df.to_csv(f\"{OUT_DIR}/{CASE}-{SUB}.tsv\", sep=\"\\t\")"
   ]
  },
  {
   "cell_type": "code",
   "execution_count": null,
   "id": "88cf9be3-03dd-44cc-9d62-0879b3429fc5",
   "metadata": {},
   "outputs": [],
   "source": [
    "!ls -l $OUT_DIR\n",
    "!echo\n",
    "!ls -l $ERR_DIR"
   ]
  },
  {
   "cell_type": "code",
   "execution_count": null,
   "id": "b4172d79-2c73-4813-9876-30398354e405",
   "metadata": {},
   "outputs": [],
   "source": []
  }
 ],
 "metadata": {
  "kernelspec": {
   "display_name": "Python 3 (ipykernel)",
   "language": "python",
   "name": "python3"
  },
  "language_info": {
   "codemirror_mode": {
    "name": "ipython",
    "version": 3
   },
   "file_extension": ".py",
   "mimetype": "text/x-python",
   "name": "python",
   "nbconvert_exporter": "python",
   "pygments_lexer": "ipython3",
   "version": "3.9.18"
  }
 },
 "nbformat": 4,
 "nbformat_minor": 5
}

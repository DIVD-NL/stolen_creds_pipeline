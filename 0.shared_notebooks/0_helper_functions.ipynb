{
 "cells": [
  {
   "cell_type": "markdown",
   "id": "6b9c4727-531a-4d2a-b4a2-aad20ed6e6dd",
   "metadata": {},
   "source": [
    "# Prep python environment"
   ]
  },
  {
   "cell_type": "code",
   "execution_count": null,
   "id": "1dd07e92-3e04-45f0-a4cd-288ec35e479c",
   "metadata": {},
   "outputs": [],
   "source": [
    "# Install a pip package in the current Jupyter kernel\n",
    "import sys\n",
    "!{sys.executable} -m pip install -r requirements.txt"
   ]
  },
  {
   "cell_type": "code",
   "execution_count": null,
   "id": "c9b323e6-1783-444a-a881-aedc461a79ff",
   "metadata": {},
   "outputs": [],
   "source": [
    "import tldextract\n",
    "import pandas as pd\n",
    "import tldextract\n",
    "from tld import get_tld\n",
    "import country_converter as coco\n",
    "import os\n",
    "import sys\n",
    "import re\n",
    "from glob import glob\n",
    "import sqlite3\n",
    "from datetime import datetime\n",
    "import unicodedata\n",
    "import hashlib\n",
    "import progressbar\n",
    "import dateutil\n",
    "import gzip"
   ]
  },
  {
   "cell_type": "markdown",
   "id": "69c4a345-0891-4f5b-b139-37255f164e64",
   "metadata": {},
   "source": [
    "# Extract tld from string"
   ]
  },
  {
   "cell_type": "code",
   "execution_count": null,
   "id": "a1940313-df96-4631-b202-e7acbcc464bc",
   "metadata": {},
   "outputs": [],
   "source": [
    "def helper_extract_iana_tld_suffix_from_email(email):\n",
    "    extracted = tldextract.extract(email)\n",
    "    return extracted.suffix.split(\".\")[-1]\n",
    "\n",
    "def helper_extract_full_tld_suffix_from_email(email):\n",
    "    extracted = tldextract.extract(email)\n",
    "    return extracted.suffix\n",
    "\n",
    "\n",
    "    "
   ]
  },
  {
   "cell_type": "markdown",
   "id": "52d54aef-1cf6-456f-aff8-8d09980ad425",
   "metadata": {},
   "source": [
    "# extract domain from string"
   ]
  },
  {
   "cell_type": "code",
   "execution_count": null,
   "id": "cdcaa652-5487-4a58-9db7-89b8106fb19f",
   "metadata": {},
   "outputs": [],
   "source": [
    "def helper_extract_domain_without_suffix_from_string(raw_input):\n",
    "    extracted= tldextract.extract(raw_input)\n",
    "    return extracted.domain\n",
    "\n",
    "def helper_extract_domain_with_suffix_from_string(raw_input):\n",
    "    extracted= tldextract.extract(raw_input)\n",
    "    return f\"{extracted.domain}.{extracted.suffix}\""
   ]
  },
  {
   "cell_type": "markdown",
   "id": "37e3fbeb-ccf1-4f98-be8e-ffb0e0b4f2bc",
   "metadata": {},
   "source": [
    "# get country info"
   ]
  },
  {
   "cell_type": "code",
   "execution_count": null,
   "id": "5cf07860-27c6-4c3a-8a1b-bfba924797bf",
   "metadata": {},
   "outputs": [],
   "source": [
    "helper_cc = coco.CountryConverter()\n"
   ]
  },
  {
   "cell_type": "markdown",
   "id": "d650d5fb-3a27-4726-97d1-ec95da35085b",
   "metadata": {},
   "source": [
    "# pandas helper functions"
   ]
  },
  {
   "cell_type": "code",
   "execution_count": null,
   "id": "0fda7869-f4c2-4f35-9271-afc332984f66",
   "metadata": {},
   "outputs": [],
   "source": [
    "# Split the email address into username and domain\n",
    "def helper_pandas_split_email(input_series):\n",
    "    return input_series.str.split('@', expand=True)\n",
    "    "
   ]
  },
  {
   "cell_type": "markdown",
   "id": "bbaa109b-d4e9-4755-8149-1aff55792244",
   "metadata": {},
   "source": [
    "# Mask password"
   ]
  },
  {
   "cell_type": "code",
   "execution_count": null,
   "id": "0d2b3242-1cac-4889-9533-b0ed4b999a48",
   "metadata": {},
   "outputs": [],
   "source": [
    "def mask_password(passwd: str) -> str :\n",
    "    pwlen = len(passwd)\n",
    "    if pwlen >= 10 :\n",
    "        return(\"{}{}{}\".format(passwd[0:2],\"*\" * (pwlen-4),passwd[-2:]))\n",
    "    else :\n",
    "        return(\"{}{}{}\".format(passwd[0],\"*\" * (pwlen-2),passwd[-1:]))"
   ]
  },
  {
   "cell_type": "markdown",
   "id": "a1427a83-7433-4360-ba75-3ade07480e4e",
   "metadata": {},
   "source": [
    "# NML hash"
   ]
  },
  {
   "cell_type": "code",
   "execution_count": null,
   "id": "11533df9-f9ad-4fa4-84c5-8d1a40f97472",
   "metadata": {},
   "outputs": [],
   "source": [
    "def normalize_email(email: str) -> str :\n",
    "    return unicodedata.normalize('NFC',email.lower())\n",
    "    "
   ]
  },
  {
   "cell_type": "code",
   "execution_count": null,
   "id": "b87d4e72-3160-4ec1-9b4d-28fe0f4b7cac",
   "metadata": {},
   "outputs": [],
   "source": [
    "unicodedata.is_normalized(\"NFC\",normalize_email(u\"\\u2126 \\u212B \\00C5\"))\n"
   ]
  },
  {
   "cell_type": "code",
   "execution_count": null,
   "id": "92477fdb-9268-4fea-b551-a2c2fd348135",
   "metadata": {},
   "outputs": [],
   "source": [
    "def nml_hash(email: str, passwd: str) -> str:\n",
    "    return hashlib.sha256(f'{email}{passwd}'.encode()).hexdigest()"
   ]
  },
  {
   "cell_type": "code",
   "execution_count": null,
   "id": "871dc94d-b418-4f13-8a29-c063478aaa8d",
   "metadata": {},
   "outputs": [],
   "source": [
    "nml_hash(\"emailadres1@domein1.nl\",\"Wacht!woord1\") == \"d43f9c7a98ce28989acf4b6d5831105e86dc5266570621bef8d24bd26ebec708\""
   ]
  },
  {
   "cell_type": "markdown",
   "id": "a6f01acc-611f-4b3d-9853-1161c3bff8f9",
   "metadata": {},
   "source": [
    "# Database"
   ]
  },
  {
   "cell_type": "code",
   "execution_count": null,
   "id": "85408e65-2778-4d45-a80a-47cd58e23fee",
   "metadata": {},
   "outputs": [],
   "source": [
    "def create_leak_db(path: str) -> None:\n",
    "    if os.path.exists(path):\n",
    "        print(\"File {} exists, bailing out!\".format(path), file=sys.stderr)\n",
    "        return\n",
    "    leak_conn = sqlite3.connect(path)\n",
    "    lcur = leak_conn.cursor()\n",
    "    lcur.execute(\"\"\"\n",
    "        CREATE TABLE entity (\n",
    "            username TEXT,\n",
    "            masked_passwd TEXT,\n",
    "            nml_hash TEXT,\n",
    "            email_apex TEXT,\n",
    "            url TEXT,\n",
    "            url_apex TEXT,\n",
    "            ts_found TEXT,\n",
    "            ts_leaked TEXT,\n",
    "            has_name BOOL,\n",
    "            has_dob BOOL,\n",
    "            has_addr BOOL,\n",
    "            has_phone BOOL,\n",
    "            has_cc BOOL,\n",
    "            has_bankacc BOOL,\n",
    "            has_ssn BOOL,\n",
    "            has_ip BOOL,\n",
    "            extra_data TEXT\n",
    "        );\n",
    "    \"\"\")\n",
    "    lcur.execute(\"create index entity_username on entity ( username collate nocase);\")\n",
    "    lcur.execute(\"create index entity_nml_hash on entity ( nml_hash collate nocase);\")\n",
    "    lcur.execute(\"create index entity_email_apex on entity ( email_apex collate nocase);\")\n",
    "    lcur.execute(\"create index entity_url_apex on entity ( url_apex collate nocase);\")\n",
    "    lcur.execute(\"\"\"\n",
    "        CREATE TABLE divd (\n",
    "            nml_hash TEXT,\n",
    "            case_id TEXT,\n",
    "            sub_id TEXT,\n",
    "            description TEXT,\n",
    "            date TEXT\n",
    "        );\n",
    "    \"\"\")\n",
    "    lcur.execute(\"create index divd_nml_hash on divd ( nml_hash collate nocase);\")\n",
    "    "
   ]
  },
  {
   "cell_type": "markdown",
   "id": "929033f6-cbd7-4d18-93b1-aa8aa6e39f62",
   "metadata": {},
   "source": [
    "# Dates"
   ]
  },
  {
   "cell_type": "code",
   "execution_count": null,
   "id": "c9e4150f-b49b-4134-9e1a-81b15b1039c7",
   "metadata": {},
   "outputs": [],
   "source": [
    "def text2sqlitedate(text: str) -> str:\n",
    "    date = dateutil.parser.parse(text)\n",
    "    return date.strftime(\"%Y-%m-%d %H:%M:%S\")\n"
   ]
  },
  {
   "cell_type": "code",
   "execution_count": null,
   "id": "6f20dc9a-4e2f-4cae-a2f7-5d34c4237e95",
   "metadata": {},
   "outputs": [],
   "source": [
    "text2sqlitedate(\"12 Nov 2023 12:01am\")"
   ]
  },
  {
   "cell_type": "markdown",
   "id": "f0c36dea-ae9d-42cd-a787-86edb18c70f1",
   "metadata": {},
   "source": [
    "# Email?"
   ]
  },
  {
   "cell_type": "code",
   "execution_count": null,
   "id": "6d081b48-f853-46f4-9f69-ff04bc7f0c15",
   "metadata": {},
   "outputs": [],
   "source": [
    "def is_email(text: str) -> bool :\n",
    "    return re.match(r'^[a-zA-Z0-9_.+-]+@[a-zA-Z0-9-]+\\.[a-zA-Z0-9-.]+$', text) is not None"
   ]
  },
  {
   "cell_type": "code",
   "execution_count": null,
   "id": "2feced9b-3f97-42bc-a636-bffc22c5ee6f",
   "metadata": {},
   "outputs": [],
   "source": [
    "is_email(\"fbreedijk\")"
   ]
  },
  {
   "cell_type": "code",
   "execution_count": null,
   "id": "5c2ce39e-2736-4d6e-970b-062a0b741d94",
   "metadata": {},
   "outputs": [],
   "source": [
    "is_email(\"fbreedijk@schubergphilis.com\")"
   ]
  },
  {
   "cell_type": "markdown",
   "id": "94f21eaf-5d54-4578-9137-9b029c0b9a37",
   "metadata": {},
   "source": []
  }
 ],
 "metadata": {
  "kernelspec": {
   "display_name": "Python 3 (ipykernel)",
   "language": "python",
   "name": "python3"
  },
  "language_info": {
   "codemirror_mode": {
    "name": "ipython",
    "version": 3
   },
   "file_extension": ".py",
   "mimetype": "text/x-python",
   "name": "python",
   "nbconvert_exporter": "python",
   "pygments_lexer": "ipython3",
   "version": "3.9.18"
  }
 },
 "nbformat": 4,
 "nbformat_minor": 5
}

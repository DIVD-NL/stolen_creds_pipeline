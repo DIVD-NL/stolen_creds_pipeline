{
 "cells": [
  {
   "cell_type": "markdown",
   "id": "1e3ba258-4706-42f2-96d5-b332007c5b67",
   "metadata": {},
   "source": [
    "# NML import notebook\n",
    "This notebook downloads data from No More Leaks and import it into the NML database"
   ]
  },
  {
   "cell_type": "markdown",
   "id": "ee953f66-efe3-4b89-90ac-63a754947856",
   "metadata": {},
   "source": [
    "# Set constants"
   ]
  },
  {
   "cell_type": "code",
   "execution_count": null,
   "id": "e20198a8-ef2a-4294-80a7-64ef7587103f",
   "metadata": {},
   "outputs": [],
   "source": [
    "# Change!\n",
    "DATE=\"2024-09-11\"\n",
    "# Keep the same\n",
    "DATA_DIR=\"../NML\"\n",
    "SHARED_DIR=\"../SHARED_DBS\"\n",
    "OUT_DB=f\"{SHARED_DIR}/NML.sqlite3\""
   ]
  },
  {
   "cell_type": "markdown",
   "id": "c1add555-2a7a-4ef4-9dfc-bbaff0b7c6fc",
   "metadata": {},
   "source": [
    "# Import helper functions"
   ]
  },
  {
   "cell_type": "code",
   "execution_count": null,
   "id": "fd9c51f1-71ea-451a-a61d-2fb1a937b4e3",
   "metadata": {},
   "outputs": [],
   "source": [
    "%run ../0.shared_notebooks/0_helper_functions.ipynb"
   ]
  },
  {
   "cell_type": "markdown",
   "id": "57c35243-5e8c-4dc8-939f-068570f0cf58",
   "metadata": {},
   "source": [
    "# Import data"
   ]
  },
  {
   "cell_type": "code",
   "execution_count": null,
   "id": "0c21403e-bfaf-4e8a-8a82-1b469c0a12f5",
   "metadata": {},
   "outputs": [],
   "source": [
    "!ls $DATA_DIR\n"
   ]
  },
  {
   "cell_type": "code",
   "execution_count": null,
   "id": "f42fcdc4-0679-417a-84fb-7c56c4b90cc5",
   "metadata": {},
   "outputs": [],
   "source": [
    "md5_files = glob(f\"{DATA_DIR}/*.md5\")"
   ]
  },
  {
   "cell_type": "code",
   "execution_count": null,
   "id": "30775423-701a-4a72-8eee-49138d971b39",
   "metadata": {},
   "outputs": [],
   "source": [
    "md5_files"
   ]
  },
  {
   "cell_type": "markdown",
   "id": "fe1ba4d4-2f97-4af8-966f-52c04cf48acf",
   "metadata": {},
   "source": [
    "# Open DB (or create it)"
   ]
  },
  {
   "cell_type": "code",
   "execution_count": null,
   "id": "da9398ea-1824-4762-97a7-b02636d4048c",
   "metadata": {},
   "outputs": [],
   "source": [
    "# Open database\n",
    "conn = sqlite3.connect(OUT_DB)\n",
    "cur = conn.cursor()"
   ]
  },
  {
   "cell_type": "code",
   "execution_count": null,
   "id": "8ad8af5d-6e08-4ff6-b847-fdac015d3817",
   "metadata": {},
   "outputs": [],
   "source": [
    "conn"
   ]
  },
  {
   "cell_type": "markdown",
   "id": "a91d4f2f-7eae-413f-bef6-4c02e4ea8278",
   "metadata": {},
   "source": [
    "# Check if date already in database"
   ]
  },
  {
   "cell_type": "code",
   "execution_count": null,
   "id": "2c1816b6-c62a-4843-980c-70747f0216fe",
   "metadata": {},
   "outputs": [],
   "source": [
    "cur.execute(f\"SELECT nml_hash FROM hashes WHERE last = '{DATE}' LIMIT 1;\")\n",
    "row = cur.fetchone()\n",
    "if row :\n",
    "    print(f\"DATE is set to '{DATE}', but there are rows in the database with this date.\", file=sys.stderr)\n",
    "else:\n",
    "    print(\"OK\")"
   ]
  },
  {
   "cell_type": "markdown",
   "id": "430812e0-49bd-4f71-b58b-5c65c8e5260d",
   "metadata": {},
   "source": [
    "# Import records"
   ]
  },
  {
   "cell_type": "code",
   "execution_count": null,
   "id": "8a1217a9-a330-4f65-a508-ef8937b0371d",
   "metadata": {},
   "outputs": [],
   "source": [
    "count=0\n",
    "for md5_file in md5_files :\n",
    "    md5fh = open(md5_file, \"r\")\n",
    "    md5 = \"\"\n",
    "    for line in md5fh.readlines() :\n",
    "        if md5 == \"\" :\n",
    "            md5 = line.split()[0]\n",
    "            file = line.split()[1]\n",
    "        cur.execute(\"SELECT count(*) FROM files WHERE md5 = ?;\",(md5,))\n",
    "        row = cur.fetchone()\n",
    "    if row[0] == 0 :\n",
    "        # md5 is not yet in database, let's import these hashes\n",
    "        print(f\"Importing '{file}'\")\n",
    "        gzfh = gzip.open(f\"{DATA_DIR}/{file}\", 'rt')\n",
    "        for hashln in gzfh:\n",
    "            hashln = hashln.strip()\n",
    "            cur.execute(\"INSERT OR IGNORE INTO hashes ( nml_hash ) values ( ? );\" , ( hashln, ) )\n",
    "            cur.execute(\"UPDATE hashes SET last = ? WHERE nml_hash = ?;\" , ( DATE, hashln ) )\n",
    "            count = count + 1\n",
    "            if count % 10_000 == 0 :\n",
    "                print(f\"{count:,}  \", end=\"\\r\")\n",
    "            if count % 1_000_000 == 0 :\n",
    "                conn.commit()\n",
    "        conn.commit()\n",
    "        # Set first for hashes that are imported first\n",
    "        cur.execute(\"UPDATE hashes SET first = last WHERE first IS NULL;\");\n",
    "        conn.commit()\n",
    "        # Mark file as imported\n",
    "        cur.execute(\"INSERT INTO files ( name, md5 ) values ( ?, ? );\",(file, md5))\n",
    "        conn.commit()\n",
    "        print(f\"{count:,}  \")\n",
    "    else:\n",
    "        print(f\"Skipping {md5_file[7:-4]}\") \n",
    "    conn.commit()\n",
    "    "
   ]
  },
  {
   "cell_type": "code",
   "execution_count": null,
   "id": "88cf9be3-03dd-44cc-9d62-0879b3429fc5",
   "metadata": {},
   "outputs": [],
   "source": [
    "# Commit database to release lock (if step above has failed)\n",
    "conn.commit()"
   ]
  },
  {
   "cell_type": "code",
   "execution_count": null,
   "id": "60b386d0-8e88-4deb-adf2-92ee0fe95dad",
   "metadata": {},
   "outputs": [],
   "source": []
  }
 ],
 "metadata": {
  "kernelspec": {
   "display_name": "Python 3 (ipykernel)",
   "language": "python",
   "name": "python3"
  },
  "language_info": {
   "codemirror_mode": {
    "name": "ipython",
    "version": 3
   },
   "file_extension": ".py",
   "mimetype": "text/x-python",
   "name": "python",
   "nbconvert_exporter": "python",
   "pygments_lexer": "ipython3",
   "version": "3.9.18"
  }
 },
 "nbformat": 4,
 "nbformat_minor": 5
}

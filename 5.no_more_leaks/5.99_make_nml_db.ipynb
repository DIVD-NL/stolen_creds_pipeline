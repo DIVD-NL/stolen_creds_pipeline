{
 "cells": [
  {
   "cell_type": "markdown",
   "id": "1e3ba258-4706-42f2-96d5-b332007c5b67",
   "metadata": {},
   "source": [
    "# Create No More Leaks DB\n",
    "\n",
    "Create the shared NML DB"
   ]
  },
  {
   "cell_type": "markdown",
   "id": "ee953f66-efe3-4b89-90ac-63a754947856",
   "metadata": {},
   "source": [
    "# Set constants"
   ]
  },
  {
   "cell_type": "code",
   "execution_count": null,
   "id": "e20198a8-ef2a-4294-80a7-64ef7587103f",
   "metadata": {},
   "outputs": [],
   "source": [
    "OUT_DIR=\"../SHARED_DBS/\"\n",
    "OUT_DB=f\"{OUT_DIR}/NML.sqlite3\""
   ]
  },
  {
   "cell_type": "markdown",
   "id": "c1add555-2a7a-4ef4-9dfc-bbaff0b7c6fc",
   "metadata": {},
   "source": [
    "# Import helper functions"
   ]
  },
  {
   "cell_type": "code",
   "execution_count": null,
   "id": "fd9c51f1-71ea-451a-a61d-2fb1a937b4e3",
   "metadata": {},
   "outputs": [],
   "source": [
    "%run ../0.shared_notebooks/0_helper_functions.ipynb"
   ]
  },
  {
   "cell_type": "markdown",
   "id": "fe1ba4d4-2f97-4af8-966f-52c04cf48acf",
   "metadata": {},
   "source": [
    "# Create database"
   ]
  },
  {
   "cell_type": "code",
   "execution_count": null,
   "id": "da9398ea-1824-4762-97a7-b02636d4048c",
   "metadata": {},
   "outputs": [],
   "source": [
    "if not os.path.exists(OUT_DB) :\n",
    "    # Open database\n",
    "    conn = sqlite3.connect(OUT_DB)\n",
    "    conn.execute(\"\"\"\n",
    "        CREATE TABLE IF NOT EXISTS hashes (\n",
    "            nml_hash STRING,\n",
    "            first DATE,\n",
    "            last DATE\n",
    "        );\n",
    "    \"\"\")\n",
    "    conn.execute(\"\"\" \n",
    "        CREATE TABLE IF NOT EXISTS files (\n",
    "            name STRING,\n",
    "            md5 STRING\n",
    "        );\n",
    "    \"\"\")\n",
    "    conn.execute(\"\"\" \n",
    "        CREATE INDEX IF NOT EXISTS hashes_nml_hash on hashes ( nml_hash COLLATE NOCASE );\n",
    "    \"\"\")\n",
    "    conn.commit()\n",
    "else:\n",
    "    print(\"Database exists, not creating a new one\")"
   ]
  },
  {
   "cell_type": "code",
   "execution_count": null,
   "id": "88cf9be3-03dd-44cc-9d62-0879b3429fc5",
   "metadata": {},
   "outputs": [],
   "source": [
    "!rm $OUT_DB"
   ]
  },
  {
   "cell_type": "code",
   "execution_count": null,
   "id": "aee3771f-c8c3-4cb7-a0bf-7501897fb801",
   "metadata": {},
   "outputs": [],
   "source": []
  }
 ],
 "metadata": {
  "kernelspec": {
   "display_name": "Python 3 (ipykernel)",
   "language": "python",
   "name": "python3"
  },
  "language_info": {
   "codemirror_mode": {
    "name": "ipython",
    "version": 3
   },
   "file_extension": ".py",
   "mimetype": "text/x-python",
   "name": "python",
   "nbconvert_exporter": "python",
   "pygments_lexer": "ipython3",
   "version": "3.9.18"
  }
 },
 "nbformat": 4,
 "nbformat_minor": 5
}

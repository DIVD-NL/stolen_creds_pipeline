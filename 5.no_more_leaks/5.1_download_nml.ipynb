{
 "cells": [
  {
   "cell_type": "markdown",
   "id": "1e3ba258-4706-42f2-96d5-b332007c5b67",
   "metadata": {},
   "source": [
    "# NML download notebook\n",
    "This notebook downloads data from No More Leaks and import it into the NML database"
   ]
  },
  {
   "cell_type": "markdown",
   "id": "ee953f66-efe3-4b89-90ac-63a754947856",
   "metadata": {},
   "source": [
    "# Set constants"
   ]
  },
  {
   "cell_type": "code",
   "execution_count": null,
   "id": "e20198a8-ef2a-4294-80a7-64ef7587103f",
   "metadata": {},
   "outputs": [],
   "source": [
    "# Keep the same\n",
    "DATA_DIR=\"../NML\"\n"
   ]
  },
  {
   "cell_type": "markdown",
   "id": "c1add555-2a7a-4ef4-9dfc-bbaff0b7c6fc",
   "metadata": {},
   "source": [
    "# Import helper functions"
   ]
  },
  {
   "cell_type": "code",
   "execution_count": null,
   "id": "fd9c51f1-71ea-451a-a61d-2fb1a937b4e3",
   "metadata": {},
   "outputs": [],
   "source": [
    "%run ../0.shared_notebooks/0_helper_functions.ipynb"
   ]
  },
  {
   "cell_type": "code",
   "execution_count": null,
   "id": "30f90e1b-65bb-47f2-a2a9-77cd0d8c2c08",
   "metadata": {},
   "outputs": [],
   "source": [
    "import difflib\n",
    "import subprocess"
   ]
  },
  {
   "cell_type": "markdown",
   "id": "d0c3f9f1-3918-47c5-abbc-d4118ce18845",
   "metadata": {},
   "source": [
    "# Download data"
   ]
  },
  {
   "cell_type": "code",
   "execution_count": null,
   "id": "eda5b9a7-2e3e-476c-9a51-0232d48a87e7",
   "metadata": {},
   "outputs": [],
   "source": [
    "!rm $DATA_DIR/*.md5"
   ]
  },
  {
   "cell_type": "code",
   "execution_count": null,
   "id": "7cd148f8-d77f-4c72-91ce-727d1c7e8811",
   "metadata": {},
   "outputs": [],
   "source": [
    "# Get md5 files\n",
    "!(cd $DATA_DIR;sftp  -i ../conf/divd_nml_id_ed25519  -b ../5.no_more_leaks/nml_get_md5.txt divd@dl.nomoreleaks.org)"
   ]
  },
  {
   "cell_type": "code",
   "execution_count": null,
   "id": "9d68c9bb-8387-4c36-9d74-209d0f8f1161",
   "metadata": {},
   "outputs": [],
   "source": [
    "# Cleaning batch file\n",
    "!rm $DATA_DIR/*.txt\n",
    "!cp nml_get_template.txt $DATA_DIR/nml_get_files.txt"
   ]
  },
  {
   "cell_type": "code",
   "execution_count": null,
   "id": "b4fb8349-c4b6-455f-8ce2-f9ed4db7541f",
   "metadata": {},
   "outputs": [],
   "source": [
    "md5_files = glob(f\"{DATA_DIR}/*.md5\")\n",
    "fh_out = open(f\"{DATA_DIR}/nml_get_files.txt\", \"a\")\n",
    "# Fix checksums\n",
    "for md5_file in md5_files:\n",
    "    md5 = open(md5_file, \"r\").readlines()\n",
    "    if len(md5[0]) == 32 :\n",
    "        with open(md5_file, \"w\") as fh:\n",
    "            print(f\"{md5[0]}  {os.path.basename(md5_file[0:-4])}\", file=fh, end=\"\")\n",
    "# Determine if we need to get files\n",
    "need_to_get = False\n",
    "for md5_file in md5_files:\n",
    "    fh1 = open(md5_file, \"r\")\n",
    "    getit = False\n",
    "    if not os.path.exists(f\"{DATA_DIR}/LAST/{os.path.basename(md5_file)}\") : \n",
    "        # If we have an .md5 file but no data file we need to download it\n",
    "        getit = True\n",
    "        need_to_get = True\n",
    "        print(f\"New .md5 file {os.path.basename(md5_file)}.md5, adding {os.path.basename(md5_file)} to the download list\")\n",
    "    if not getit :\n",
    "        # If the .md5 file we got is new of different from the one we got the last file, we need to download the data file\n",
    "        fh2 = open(f\"{DATA_DIR}/LAST/{os.path.basename(md5_file)}\")\n",
    "        md51 = fh1.readlines()\n",
    "        md52 = fh2.readlines()\n",
    "        diff = difflib.unified_diff(md51,md52)\n",
    "        if len(list(diff)) > 0 :\n",
    "            getit = True\n",
    "            print(f\"Updated .md5 file {os.path.basename(md5_file)}.md5, adding {os.path.basename(md5_file)} to the download list\")\n",
    "    if not getit :\n",
    "        print(f\"MD5 checking {os.path.basename(md5_file)}....\", end=\"\")\n",
    "        # If the datafile we have does not match the .md5 file we just got, we need to download the file\n",
    "        check_out = subprocess.check_output(f\"cd {DATA_DIR};md5sum --check {os.path.basename(md5_file)}\", shell=True).decode(\"utf-8\")\n",
    "        if check_out[-3:-1] != 'OK' :\n",
    "            print(\"NO MATCH\")\n",
    "            get_it = True\n",
    "            print(f\"MD5 in .md5 file {os.path.basename(md5_file)}.md5 doesn;t match data file, adding {os.path.basename(md5_file)} to the download list\")\n",
    "        else:\n",
    "            print(\"OK\")\n",
    "    if getit:\n",
    "        # Add the file to the sftp batch file\n",
    "        print(f\"get {os.path.basename(md5_file)[0:-4]}\", file=fh_out)\n",
    "        need_to_get = True\n",
    "print(\"quit\", file=fh_out)\n",
    "fh_out.close()\n",
    "if not need_to_get:\n",
    "    print(\"No need to get any file, you are up to date.\")"
   ]
  },
  {
   "cell_type": "code",
   "execution_count": null,
   "id": "e007433c-f21b-41bb-9c4d-e47c79ec3277",
   "metadata": {},
   "outputs": [],
   "source": [
    "if need_to_get:\n",
    "    !cat $DATA_DIR/*.txt"
   ]
  },
  {
   "cell_type": "code",
   "execution_count": null,
   "id": "01e0ec9e-8549-42bd-b42b-9a1434cc96b4",
   "metadata": {},
   "outputs": [],
   "source": [
    "# Get data files\n",
    "if need_to_get:\n",
    "    !(cd $DATA_DIR;sftp  -i ../conf/divd_nml_id_ed25519  -b nml_get_files.txt divd@dl.nomoreleaks.org)\n",
    "else:\n",
    "    print(\"Not getting anything\")"
   ]
  },
  {
   "cell_type": "code",
   "execution_count": null,
   "id": "9bfdaaaa-9ee9-47d3-b3f2-38144a5bc841",
   "metadata": {},
   "outputs": [],
   "source": [
    "# CHeck all md5 sums\n",
    "!(cd $DATA_DIR;md5sum --check *.md5)"
   ]
  },
  {
   "cell_type": "code",
   "execution_count": null,
   "id": "c7a3ff54-36df-4d48-b589-6e0732a1b881",
   "metadata": {},
   "outputs": [],
   "source": [
    "# Copy MD5 files to LAST to confirm we have downloaded the data\n",
    "!cp $DATA_DIR/*.md5 $DATA_DIR/LAST/"
   ]
  },
  {
   "cell_type": "code",
   "execution_count": null,
   "id": "a4e578d0-3fed-4b6c-b344-41a27dbe84e3",
   "metadata": {},
   "outputs": [],
   "source": []
  }
 ],
 "metadata": {
  "kernelspec": {
   "display_name": "Python 3 (ipykernel)",
   "language": "python",
   "name": "python3"
  },
  "language_info": {
   "codemirror_mode": {
    "name": "ipython",
    "version": 3
   },
   "file_extension": ".py",
   "mimetype": "text/x-python",
   "name": "python",
   "nbconvert_exporter": "python",
   "pygments_lexer": "ipython3",
   "version": "3.9.18"
  }
 },
 "nbformat": 4,
 "nbformat_minor": 5
}

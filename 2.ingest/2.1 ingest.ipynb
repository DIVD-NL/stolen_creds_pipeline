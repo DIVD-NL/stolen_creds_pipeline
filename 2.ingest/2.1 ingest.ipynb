{
 "cells": [
  {
   "cell_type": "markdown",
   "id": "1e3ba258-4706-42f2-96d5-b332007c5b67",
   "metadata": {},
   "source": [
    "# Inges notebook\n",
    "This notebook takes normalized TSV files and reads them into a breach specific database. Before you run this make sure you update the constants below."
   ]
  },
  {
   "cell_type": "markdown",
   "id": "ee953f66-efe3-4b89-90ac-63a754947856",
   "metadata": {},
   "source": [
    "# Set constants"
   ]
  },
  {
   "cell_type": "code",
   "execution_count": null,
   "id": "e20198a8-ef2a-4294-80a7-64ef7587103f",
   "metadata": {},
   "outputs": [],
   "source": [
    "# change these\n",
    "CASE=\"DIVD-2021-00012\"\n",
    "SUB=\"set1\"\n",
    "CONTAINS_PASSWORDS=True\n",
    "# Keep the same\n",
    "IN_DIR=\"../NORMALIZED\"\n",
    "OUT_DIR=\"../LEAK_DB/\"\n",
    "OUT_DB=f\"{OUT_DIR}/{CASE}-{SUB}.sqlite3\""
   ]
  },
  {
   "cell_type": "markdown",
   "id": "c1add555-2a7a-4ef4-9dfc-bbaff0b7c6fc",
   "metadata": {},
   "source": [
    "# Import helper functions"
   ]
  },
  {
   "cell_type": "code",
   "execution_count": null,
   "id": "fd9c51f1-71ea-451a-a61d-2fb1a937b4e3",
   "metadata": {},
   "outputs": [],
   "source": [
    "%run ../0.shared_notebooks/0_helper_functions.ipynb"
   ]
  },
  {
   "cell_type": "markdown",
   "id": "57c35243-5e8c-4dc8-939f-068570f0cf58",
   "metadata": {},
   "source": [
    "# Import data"
   ]
  },
  {
   "cell_type": "code",
   "execution_count": null,
   "id": "0c21403e-bfaf-4e8a-8a82-1b469c0a12f5",
   "metadata": {},
   "outputs": [],
   "source": [
    "!ls $OUT_DIR\n"
   ]
  },
  {
   "cell_type": "code",
   "execution_count": null,
   "id": "f42fcdc4-0679-417a-84fb-7c56c4b90cc5",
   "metadata": {},
   "outputs": [],
   "source": [
    "#!rm $OUT_DIR/*"
   ]
  },
  {
   "cell_type": "markdown",
   "id": "fe1ba4d4-2f97-4af8-966f-52c04cf48acf",
   "metadata": {},
   "source": [
    "# Open DB (or create it)"
   ]
  },
  {
   "cell_type": "code",
   "execution_count": null,
   "id": "da9398ea-1824-4762-97a7-b02636d4048c",
   "metadata": {},
   "outputs": [],
   "source": [
    "if not os.path.exists(OUT_DB) :\n",
    "    create_leak_db(OUT_DB)\n",
    "# Open database\n",
    "conn = sqlite3.connect(OUT_DB)\n",
    "cur = conn.cursor()"
   ]
  },
  {
   "cell_type": "markdown",
   "id": "430812e0-49bd-4f71-b58b-5c65c8e5260d",
   "metadata": {},
   "source": [
    "# Import records"
   ]
  },
  {
   "cell_type": "code",
   "execution_count": null,
   "id": "48224593-eade-47ff-9d3f-075f5d88dc5b",
   "metadata": {},
   "outputs": [],
   "source": [
    "files=sorted(glob(f\"{IN_DIR}/*.tsv\"))"
   ]
  },
  {
   "cell_type": "code",
   "execution_count": null,
   "id": "b343c1cc-3252-4ad4-bd5b-1b646ba642a5",
   "metadata": {},
   "outputs": [],
   "source": [
    "files"
   ]
  },
  {
   "cell_type": "code",
   "execution_count": null,
   "id": "8a1217a9-a330-4f65-a508-ef8937b0371d",
   "metadata": {},
   "outputs": [],
   "source": [
    "cur.execute(\"DELETE FROM 'entity'\")\n",
    "count=0\n",
    "for file in files :\n",
    "    df = pd.read_csv(file, sep='\\t', index_col=False, \n",
    "        dtype={\n",
    "            \"username\": str, \"passwd\" : str, \"url\": str, \"extra_data\": str }\n",
    "    )\n",
    "    for index, row in df.iterrows():\n",
    "        if type(row[\"username\"]) is str :\n",
    "            user_ext = tldextract.extract(row[\"username\"] )\n",
    "            user_apex = f\"{user_ext.domain}.{user_ext.suffix}\"\n",
    "        else:\n",
    "            user_ext = None\n",
    "            user_apex = None\n",
    "        if type(row[\"url\"]) is str:\n",
    "            url = row[\"url\"]\n",
    "            url_ext = tldextract.extract(url)\n",
    "            url_apex = f\"{url_ext.domain}.{url_ext.suffix}\"\n",
    "        else:\n",
    "            url = None\n",
    "            url_ext = None\n",
    "            url_apex = None\n",
    "        if type(row[\"username\"]) is str:\n",
    "            username = row[\"username\"]\n",
    "        else:\n",
    "            username = None\n",
    "        if type(row[\"passwd\"]) is str:\n",
    "            passwd = row[\"passwd\"]\n",
    "            masked_passwd = mask_password(passwd)\n",
    "        else:\n",
    "            passwd = None\n",
    "            masked_passwd = None\n",
    "        if username and passwd and is_email(username):\n",
    "            nml_hash_str = nml_hash(username, passwd)\n",
    "        else:\n",
    "            nml_hash_str = None\n",
    "        cur.execute(\"\"\"\n",
    "            INSERT into 'entity' ( \n",
    "                username, masked_passwd, nml_hash, url, \n",
    "                email_apex, url_apex, ts_found, ts_leaked, \n",
    "                has_name, has_dob, has_addr, has_phone, has_cc, has_bankacc,\n",
    "                has_ssn, has_ip, extra_data\n",
    "            ) values (\n",
    "                ?, ?, ?, ?, \n",
    "                ?, ?, ?, ?, \n",
    "                ?, ?, ?, ?, ?, ?, \n",
    "                ?, ?, ?\n",
    "            )\n",
    "        \"\"\" , (\n",
    "            username, masked_passwd, nml_hash_str, url,\n",
    "            user_apex, url_apex, row[\"ts_found\"], row[\"ts_leaked\"],\n",
    "            row[\"has_name\"], row[\"has_dob\"], row[\"has_addr\"], row[\"has_phone\"], row[\"has_cc\"], row[\"has_bankacc\"],\n",
    "            row[\"has_ssn\"], row[\"has_ip\"], row[\"extra_data\"]\n",
    "        ) )\n",
    "        count=count+1\n",
    "        if count % 1_000 == 0 :\n",
    "            print(f\"{count:,}\", end=\"\\r\")\n",
    "        if count % 10_000 == 0 :\n",
    "            conn.commit()\n",
    "conn.commit()"
   ]
  },
  {
   "cell_type": "code",
   "execution_count": null,
   "id": "88cf9be3-03dd-44cc-9d62-0879b3429fc5",
   "metadata": {},
   "outputs": [],
   "source": [
    "conn.commit()"
   ]
  },
  {
   "cell_type": "code",
   "execution_count": null,
   "id": "60b386d0-8e88-4deb-adf2-92ee0fe95dad",
   "metadata": {},
   "outputs": [],
   "source": []
  }
 ],
 "metadata": {
  "kernelspec": {
   "display_name": "Python 3 (ipykernel)",
   "language": "python",
   "name": "python3"
  },
  "language_info": {
   "codemirror_mode": {
    "name": "ipython",
    "version": 3
   },
   "file_extension": ".py",
   "mimetype": "text/x-python",
   "name": "python",
   "nbconvert_exporter": "python",
   "pygments_lexer": "ipython3",
   "version": "3.9.18"
  }
 },
 "nbformat": 4,
 "nbformat_minor": 5
}

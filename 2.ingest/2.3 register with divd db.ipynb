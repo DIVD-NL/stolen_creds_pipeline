{
 "cells": [
  {
   "cell_type": "markdown",
   "id": "1e3ba258-4706-42f2-96d5-b332007c5b67",
   "metadata": {},
   "source": [
    "# Register with DIVD\n",
    "\n",
    "Register the NLM Hashes from the LEAK specific database into the shared DIVD leak DB"
   ]
  },
  {
   "cell_type": "markdown",
   "id": "ee953f66-efe3-4b89-90ac-63a754947856",
   "metadata": {},
   "source": [
    "# Set constants"
   ]
  },
  {
   "cell_type": "code",
   "execution_count": null,
   "id": "e20198a8-ef2a-4294-80a7-64ef7587103f",
   "metadata": {},
   "outputs": [],
   "source": [
    "CASE=\"DIVD-2021-00004\"\n",
    "SUB=\"logs\"\n",
    "DESCRIPTION=\"Office phishing campaign\"\n",
    "CASE_DATE=\"2020-04-09\"\n",
    "\n",
    "# Keep these the same\n",
    "IN_DIR=\"../LEAK_DB/\"\n",
    "IN_DB=f\"{IN_DIR}/{CASE}-{SUB}.sqlite3\"\n",
    "DIVD_DB=\"../SHARED_DBS/DIVD-leaks.sqlite3\""
   ]
  },
  {
   "cell_type": "markdown",
   "id": "c1add555-2a7a-4ef4-9dfc-bbaff0b7c6fc",
   "metadata": {},
   "source": [
    "# Import helper functions"
   ]
  },
  {
   "cell_type": "code",
   "execution_count": null,
   "id": "fd9c51f1-71ea-451a-a61d-2fb1a937b4e3",
   "metadata": {},
   "outputs": [],
   "source": [
    "%run ../0.shared_notebooks/0_helper_functions.ipynb"
   ]
  },
  {
   "cell_type": "markdown",
   "id": "1a3b296d-eb7f-4730-b1d9-a6f0bf94c2ca",
   "metadata": {},
   "source": [
    "# Open DB"
   ]
  },
  {
   "cell_type": "code",
   "execution_count": null,
   "id": "ae20bd9a-a877-4c2b-a302-51d5acf343e8",
   "metadata": {},
   "outputs": [],
   "source": [
    "divd_conn=sqlite3.connect(DIVD_DB)\n",
    "divd_cur=divd_conn.cursor()"
   ]
  },
  {
   "cell_type": "code",
   "execution_count": null,
   "id": "63b7ae65-9285-46af-a5c6-f89817c57100",
   "metadata": {},
   "outputs": [],
   "source": [
    "divd_conn\n"
   ]
  },
  {
   "cell_type": "markdown",
   "id": "2d7a1ec3-9710-4678-a317-fb9d08fbbd3a",
   "metadata": {},
   "source": [
    "# Check if leak exists"
   ]
  },
  {
   "cell_type": "code",
   "execution_count": null,
   "id": "dc82c11e-190c-45d3-90ba-3232c86aca04",
   "metadata": {},
   "outputs": [],
   "source": [
    "divd_cur.execute( \"SELECT count(*) FROM leak WHERE case_id = ? and sub_id = ?;\",  ( CASE, SUB ) )\n",
    "row = divd_cur.fetchone()\n",
    "if row[0] > 0 :\n",
    "    print(\"Leak exists\", file=sys.stderr)\n",
    "else:\n",
    "    print(\"Leak is new\")"
   ]
  },
  {
   "cell_type": "markdown",
   "id": "430812e0-49bd-4f71-b58b-5c65c8e5260d",
   "metadata": {},
   "source": [
    "# Import leak"
   ]
  },
  {
   "cell_type": "code",
   "execution_count": null,
   "id": "d83390f7-7f82-416c-8ebb-c6bb65d806c2",
   "metadata": {},
   "outputs": [],
   "source": [
    "divd_conn.execute( \n",
    "    \"INSERT INTO leak ( case_id, sub_id, description, date) values (?, ?, ?, ?);\", \n",
    "    ( CASE, SUB, DESCRIPTION, CASE_DATE ) \n",
    ")\n",
    "divd_conn.commit()"
   ]
  },
  {
   "cell_type": "markdown",
   "id": "cb23b7f1-b30e-40fc-b7bf-2b5fdab750d3",
   "metadata": {},
   "source": [
    "# Import hashes"
   ]
  },
  {
   "cell_type": "code",
   "execution_count": null,
   "id": "48224593-eade-47ff-9d3f-075f5d88dc5b",
   "metadata": {},
   "outputs": [],
   "source": [
    "in_conn=sqlite3.connect(IN_DB)"
   ]
  },
  {
   "cell_type": "code",
   "execution_count": null,
   "id": "b343c1cc-3252-4ad4-bd5b-1b646ba642a5",
   "metadata": {},
   "outputs": [],
   "source": [
    "in_conn"
   ]
  },
  {
   "cell_type": "code",
   "execution_count": null,
   "id": "8a1217a9-a330-4f65-a508-ef8937b0371d",
   "metadata": {},
   "outputs": [],
   "source": [
    "divd_conn.execute(\"DELETE FROM leak WHERE case_id = ? and sub_id = ?;\", ( CASE, SUB ) )\n",
    "count = 0\n",
    "for row in in_conn.execute(\"SELECT DISTINCT nml_hash FROM entity\").fetchall() :\n",
    "    if row[0] :\n",
    "        divd_conn.execute(\n",
    "            \"INSERT INTO divd ( 'nml_hash', 'case', 'sub_id' ) values ( ?, ?, ?);\",\n",
    "            ( row[0], CASE, SUB )\n",
    "        )\n",
    "        count=count+1\n",
    "        if count % 1000 == 0 :\n",
    "            print(f\"{count} \\r\")\n",
    "        if count % 10_000 == 0 :\n",
    "            divd_conn.commit()\n",
    "print(count)\n",
    "divd_conn.commit()"
   ]
  },
  {
   "cell_type": "code",
   "execution_count": null,
   "id": "88cf9be3-03dd-44cc-9d62-0879b3429fc5",
   "metadata": {},
   "outputs": [],
   "source": []
  }
 ],
 "metadata": {
  "kernelspec": {
   "display_name": "Python 3 (ipykernel)",
   "language": "python",
   "name": "python3"
  },
  "language_info": {
   "codemirror_mode": {
    "name": "ipython",
    "version": 3
   },
   "file_extension": ".py",
   "mimetype": "text/x-python",
   "name": "python",
   "nbconvert_exporter": "python",
   "pygments_lexer": "ipython3",
   "version": "3.9.18"
  }
 },
 "nbformat": 4,
 "nbformat_minor": 5
}

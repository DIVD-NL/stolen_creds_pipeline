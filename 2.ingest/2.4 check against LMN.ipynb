{
 "cells": [
  {
   "cell_type": "markdown",
   "id": "1e3ba258-4706-42f2-96d5-b332007c5b67",
   "metadata": {},
   "source": [
    "# Check against DIVD DB\n",
    "\n",
    "Check if the NLM Hashes from the LEAK specific database are already in the DIVD database"
   ]
  },
  {
   "cell_type": "markdown",
   "id": "ee953f66-efe3-4b89-90ac-63a754947856",
   "metadata": {},
   "source": [
    "# Set constants"
   ]
  },
  {
   "cell_type": "code",
   "execution_count": null,
   "id": "b7d5e633-afbc-4ea4-ad1c-6476c8cea384",
   "metadata": {},
   "outputs": [],
   "source": [
    "!ls ../LEAK_DB"
   ]
  },
  {
   "cell_type": "code",
   "execution_count": null,
   "id": "e20198a8-ef2a-4294-80a7-64ef7587103f",
   "metadata": {},
   "outputs": [],
   "source": [
    "CASE=\"DIVD-2021-00012\"\n",
    "SUB=\"set1\"\n",
    "\n",
    "# Keep these the same\n",
    "IN_DIR=\"../LEAK_DB/\"\n",
    "IN_DB=f\"{IN_DIR}/{CASE}-{SUB}.sqlite3\"\n",
    "NML_DB=\"../SHARED_DBS/NML.sqlite3\""
   ]
  },
  {
   "cell_type": "markdown",
   "id": "c1add555-2a7a-4ef4-9dfc-bbaff0b7c6fc",
   "metadata": {},
   "source": [
    "# Import helper functions"
   ]
  },
  {
   "cell_type": "code",
   "execution_count": null,
   "id": "fd9c51f1-71ea-451a-a61d-2fb1a937b4e3",
   "metadata": {},
   "outputs": [],
   "source": [
    "%run ../0.shared_notebooks/0_helper_functions.ipynb"
   ]
  },
  {
   "cell_type": "markdown",
   "id": "1a3b296d-eb7f-4730-b1d9-a6f0bf94c2ca",
   "metadata": {},
   "source": [
    "# Open DB"
   ]
  },
  {
   "cell_type": "code",
   "execution_count": null,
   "id": "ae20bd9a-a877-4c2b-a302-51d5acf343e8",
   "metadata": {},
   "outputs": [],
   "source": [
    "nml_conn=sqlite3.connect(NML_DB)\n"
   ]
  },
  {
   "cell_type": "code",
   "execution_count": null,
   "id": "63b7ae65-9285-46af-a5c6-f89817c57100",
   "metadata": {},
   "outputs": [],
   "source": [
    "nml_conn\n"
   ]
  },
  {
   "cell_type": "code",
   "execution_count": null,
   "id": "48224593-eade-47ff-9d3f-075f5d88dc5b",
   "metadata": {},
   "outputs": [],
   "source": [
    "in_conn=sqlite3.connect(IN_DB)"
   ]
  },
  {
   "cell_type": "code",
   "execution_count": null,
   "id": "b343c1cc-3252-4ad4-bd5b-1b646ba642a5",
   "metadata": {},
   "outputs": [],
   "source": [
    "in_conn"
   ]
  },
  {
   "cell_type": "markdown",
   "id": "cb23b7f1-b30e-40fc-b7bf-2b5fdab750d3",
   "metadata": {},
   "source": [
    "# Check hashes"
   ]
  },
  {
   "cell_type": "code",
   "execution_count": null,
   "id": "8a1217a9-a330-4f65-a508-ef8937b0371d",
   "metadata": {},
   "outputs": [],
   "source": [
    "in_cur = in_conn.cursor()\n",
    "in_cur.execute(\"SELECT COUNT( DISTINCT nml_hash) from entity;\" )\n",
    "row = in_cur.fetchone()\n",
    "todo=row[0]\n",
    "if todo > 0 :\n",
    "    count = 0\n",
    "    # Progress bar\n",
    "    widgets=[\n",
    "        progressbar.SimpleProgress(), \n",
    "        ' (', progressbar.Percentage(format='%(percentage)3.2f%%'), ') ',\n",
    "        progressbar.Bar(),\n",
    "        progressbar.ETA(),\n",
    "    ]\n",
    "    bar = progressbar.ProgressBar(max_value=todo, widgets=widgets, enable_colors=False)\n",
    "    bar.update(1)\n",
    "    for row in in_cur.execute(\"SELECT DISTINCT nml_hash FROM entity\").fetchall() :\n",
    "        if row[0] :\n",
    "            for nmlrow in nml_conn.execute(\"\"\"\n",
    "                SELECT first, last \n",
    "                FROM hashes\n",
    "                WHERE nml_hash = ?;\n",
    "            \"\"\",\n",
    "                ( row[0], )\n",
    "            ).fetchall() :\n",
    "                in_cur.execute(\n",
    "                    \"INSERT INTO nml ( nml_hash, first, last ) values ( ?, ?, ? );\",\n",
    "                    ( row[0], nmlrow[0], nmlrow[1] )\n",
    "                )\n",
    "        count=count+1\n",
    "        if count % 100 == 0 :\n",
    "            bar.update(count)\n",
    "        if count % 10_000 == 0 :\n",
    "            in_conn.commit()\n",
    "    nml_conn.commit()\n",
    "    in_conn.commit()\n",
    "    print(\"Done\")\n",
    "    bar.update(todo)\n",
    "else:\n",
    "    print(\"Nothing to do here\")"
   ]
  },
  {
   "cell_type": "code",
   "execution_count": null,
   "id": "e322be50-f505-4ec4-b2a7-5a8641f2ec3b",
   "metadata": {},
   "outputs": [],
   "source": [
    "todo"
   ]
  },
  {
   "cell_type": "markdown",
   "id": "078c2a10-075e-4da1-9397-87831b20bbad",
   "metadata": {},
   "source": [
    "# Generate stats"
   ]
  },
  {
   "cell_type": "code",
   "execution_count": null,
   "id": "88cf9be3-03dd-44cc-9d62-0879b3429fc5",
   "metadata": {},
   "outputs": [],
   "source": [
    "in_nml = 0\n",
    "not_in_nnm=0\n",
    "row = in_cur.execute('select count(*) from \"entity\" e left join nml n on e.nml_hash = n.nml_hash where e.nml_hash is not null and n.nml_hash is null collate nocase;').fetchone()\n",
    "not_in_nml=row[0]\n",
    "row = in_cur.execute('select count(*) from \"entity\" e left join nml n on e.nml_hash = n.nml_hash where e.nml_hash is not null and n.nml_hash is not null collate nocase;').fetchone()\n",
    "in_nml=row[0]\n",
    "rowcount=in_nml+not_in_nml\n",
    "print(f\"{rowcount:,} records, {in_nml:,} in nml ({in_nml/rowcount*100:.2f}%), {not_in_nml:,} not ({not_in_nml/rowcount*100:.2f}%)\")"
   ]
  },
  {
   "cell_type": "code",
   "execution_count": null,
   "id": "50725c43-90f0-4572-a4f7-49b5fd7bd919",
   "metadata": {},
   "outputs": [],
   "source": [
    "row"
   ]
  },
  {
   "cell_type": "code",
   "execution_count": null,
   "id": "071342b7-1558-4021-9033-e9dd82fc3f5a",
   "metadata": {},
   "outputs": [],
   "source": [
    "in_conn.commit()"
   ]
  },
  {
   "cell_type": "code",
   "execution_count": null,
   "id": "2bc82fed-b99f-4bea-9099-6c7e6e9f59a4",
   "metadata": {},
   "outputs": [],
   "source": []
  }
 ],
 "metadata": {
  "kernelspec": {
   "display_name": "Python 3 (ipykernel)",
   "language": "python",
   "name": "python3"
  },
  "language_info": {
   "codemirror_mode": {
    "name": "ipython",
    "version": 3
   },
   "file_extension": ".py",
   "mimetype": "text/x-python",
   "name": "python",
   "nbconvert_exporter": "python",
   "pygments_lexer": "ipython3",
   "version": "3.9.18"
  }
 },
 "nbformat": 4,
 "nbformat_minor": 5
}
